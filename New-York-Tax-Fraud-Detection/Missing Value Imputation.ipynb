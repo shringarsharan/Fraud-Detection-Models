{
 "cells": [
  {
   "cell_type": "code",
   "execution_count": 1,
   "metadata": {
    "colab": {},
    "colab_type": "code",
    "id": "b2O-8GUXgI88"
   },
   "outputs": [],
   "source": [
    "import numpy as np\n",
    "import pandas as pd\n",
    "pd.set_option('display.max_columns', None)\n",
    "pd.set_option('display.max_rows', None)"
   ]
  },
  {
   "cell_type": "code",
   "execution_count": 2,
   "metadata": {
    "colab": {},
    "colab_type": "code",
    "id": "aB4mOSYzgNDc"
   },
   "outputs": [
    {
     "name": "stdout",
     "output_type": "stream",
     "text": [
      "Wall time: 13.5 s\n"
     ]
    }
   ],
   "source": [
    "%%time\n",
    "data = pd.read_csv('Data/NY property data.csv')"
   ]
  },
  {
   "cell_type": "code",
   "execution_count": 3,
   "metadata": {},
   "outputs": [],
   "source": [
    "data = data[['FULLVAL', 'AVLAND', 'AVTOT', 'LTFRONT', 'LTDEPTH', 'BLDFRONT', 'BLDDEPTH', 'ZIP', 'STORIES',\n",
    "            'RECORD', 'B', 'BLOCK', 'LOT', 'TAXCLASS']]"
   ]
  },
  {
   "cell_type": "code",
   "execution_count": 4,
   "metadata": {},
   "outputs": [],
   "source": [
    "data.replace(to_replace=0, value=np.nan, inplace = True)"
   ]
  },
  {
   "cell_type": "code",
   "execution_count": 5,
   "metadata": {
    "colab": {
     "base_uri": "https://localhost:8080/",
     "height": 365
    },
    "colab_type": "code",
    "id": "ux_o4dlWgPt9",
    "outputId": "f2f48812-7bee-423f-8db1-8dc16977d83a"
   },
   "outputs": [
    {
     "data": {
      "text/html": [
       "<div>\n",
       "<style scoped>\n",
       "    .dataframe tbody tr th:only-of-type {\n",
       "        vertical-align: middle;\n",
       "    }\n",
       "\n",
       "    .dataframe tbody tr th {\n",
       "        vertical-align: top;\n",
       "    }\n",
       "\n",
       "    .dataframe thead th {\n",
       "        text-align: right;\n",
       "    }\n",
       "</style>\n",
       "<table border=\"1\" class=\"dataframe\">\n",
       "  <thead>\n",
       "    <tr style=\"text-align: right;\">\n",
       "      <th></th>\n",
       "      <th>FULLVAL</th>\n",
       "      <th>AVLAND</th>\n",
       "      <th>AVTOT</th>\n",
       "      <th>LTFRONT</th>\n",
       "      <th>LTDEPTH</th>\n",
       "      <th>BLDFRONT</th>\n",
       "      <th>BLDDEPTH</th>\n",
       "      <th>ZIP</th>\n",
       "      <th>STORIES</th>\n",
       "      <th>RECORD</th>\n",
       "      <th>B</th>\n",
       "      <th>BLOCK</th>\n",
       "      <th>LOT</th>\n",
       "      <th>TAXCLASS</th>\n",
       "    </tr>\n",
       "  </thead>\n",
       "  <tbody>\n",
       "    <tr>\n",
       "      <th>0</th>\n",
       "      <td>21400000.0</td>\n",
       "      <td>4225500.0</td>\n",
       "      <td>9630000.0</td>\n",
       "      <td>500.0</td>\n",
       "      <td>1046.0</td>\n",
       "      <td>NaN</td>\n",
       "      <td>NaN</td>\n",
       "      <td>10004.0</td>\n",
       "      <td>NaN</td>\n",
       "      <td>1</td>\n",
       "      <td>1</td>\n",
       "      <td>1</td>\n",
       "      <td>101</td>\n",
       "      <td>4</td>\n",
       "    </tr>\n",
       "    <tr>\n",
       "      <th>1</th>\n",
       "      <td>193800000.0</td>\n",
       "      <td>14310000.0</td>\n",
       "      <td>87210000.0</td>\n",
       "      <td>27.0</td>\n",
       "      <td>NaN</td>\n",
       "      <td>NaN</td>\n",
       "      <td>NaN</td>\n",
       "      <td>10004.0</td>\n",
       "      <td>NaN</td>\n",
       "      <td>2</td>\n",
       "      <td>1</td>\n",
       "      <td>1</td>\n",
       "      <td>201</td>\n",
       "      <td>4</td>\n",
       "    </tr>\n",
       "    <tr>\n",
       "      <th>2</th>\n",
       "      <td>104686000.0</td>\n",
       "      <td>39008700.0</td>\n",
       "      <td>47108700.0</td>\n",
       "      <td>709.0</td>\n",
       "      <td>564.0</td>\n",
       "      <td>709.0</td>\n",
       "      <td>564.0</td>\n",
       "      <td>10004.0</td>\n",
       "      <td>3.0</td>\n",
       "      <td>3</td>\n",
       "      <td>1</td>\n",
       "      <td>2</td>\n",
       "      <td>1</td>\n",
       "      <td>4</td>\n",
       "    </tr>\n",
       "    <tr>\n",
       "      <th>3</th>\n",
       "      <td>39200000.0</td>\n",
       "      <td>15255000.0</td>\n",
       "      <td>17640000.0</td>\n",
       "      <td>793.0</td>\n",
       "      <td>551.0</td>\n",
       "      <td>85.0</td>\n",
       "      <td>551.0</td>\n",
       "      <td>10004.0</td>\n",
       "      <td>2.0</td>\n",
       "      <td>4</td>\n",
       "      <td>1</td>\n",
       "      <td>2</td>\n",
       "      <td>23</td>\n",
       "      <td>4</td>\n",
       "    </tr>\n",
       "    <tr>\n",
       "      <th>4</th>\n",
       "      <td>272300000.0</td>\n",
       "      <td>121050000.0</td>\n",
       "      <td>122535000.0</td>\n",
       "      <td>323.0</td>\n",
       "      <td>1260.0</td>\n",
       "      <td>89.0</td>\n",
       "      <td>57.0</td>\n",
       "      <td>10004.0</td>\n",
       "      <td>1.0</td>\n",
       "      <td>5</td>\n",
       "      <td>1</td>\n",
       "      <td>3</td>\n",
       "      <td>1</td>\n",
       "      <td>4</td>\n",
       "    </tr>\n",
       "  </tbody>\n",
       "</table>\n",
       "</div>"
      ],
      "text/plain": [
       "       FULLVAL       AVLAND        AVTOT  LTFRONT  LTDEPTH  BLDFRONT  \\\n",
       "0   21400000.0    4225500.0    9630000.0    500.0   1046.0       NaN   \n",
       "1  193800000.0   14310000.0   87210000.0     27.0      NaN       NaN   \n",
       "2  104686000.0   39008700.0   47108700.0    709.0    564.0     709.0   \n",
       "3   39200000.0   15255000.0   17640000.0    793.0    551.0      85.0   \n",
       "4  272300000.0  121050000.0  122535000.0    323.0   1260.0      89.0   \n",
       "\n",
       "   BLDDEPTH      ZIP  STORIES  RECORD  B  BLOCK  LOT TAXCLASS  \n",
       "0       NaN  10004.0      NaN       1  1      1  101        4  \n",
       "1       NaN  10004.0      NaN       2  1      1  201        4  \n",
       "2     564.0  10004.0      3.0       3  1      2    1        4  \n",
       "3     551.0  10004.0      2.0       4  1      2   23        4  \n",
       "4      57.0  10004.0      1.0       5  1      3    1        4  "
      ]
     },
     "execution_count": 5,
     "metadata": {},
     "output_type": "execute_result"
    }
   ],
   "source": [
    "data.head()"
   ]
  },
  {
   "cell_type": "code",
   "execution_count": 6,
   "metadata": {},
   "outputs": [],
   "source": [
    "def clean_df():\n",
    "    for key in data.keys():\n",
    "        if '_y' in key:\n",
    "            data.drop(columns=[key], inplace = True)\n",
    "        elif key == 'key':\n",
    "            data.drop(columns=[key], inplace = True)"
   ]
  },
  {
   "cell_type": "code",
   "execution_count": 7,
   "metadata": {},
   "outputs": [],
   "source": [
    "def rename_col(df):\n",
    "    key_dict = {}\n",
    "    for key in df.keys():\n",
    "        if key != 'key':\n",
    "            key_dict[key] = key + '_y'\n",
    "    return df.rename(columns = key_dict)"
   ]
  },
  {
   "cell_type": "code",
   "execution_count": 8,
   "metadata": {},
   "outputs": [
    {
     "data": {
      "text/plain": [
       "29890"
      ]
     },
     "execution_count": 8,
     "metadata": {},
     "output_type": "execute_result"
    }
   ],
   "source": [
    "sum(data['ZIP'].isna())"
   ]
  },
  {
   "cell_type": "code",
   "execution_count": 9,
   "metadata": {
    "colab": {},
    "colab_type": "code",
    "id": "joY2AZRigVRq"
   },
   "outputs": [
    {
     "name": "stdout",
     "output_type": "stream",
     "text": [
      "Wall time: 26.4 s\n"
     ]
    }
   ],
   "source": [
    "%%time\n",
    "## Replacing missing values in ZIP column\n",
    "\n",
    "groupby_count_med_ZIP = data.groupby(['B', 'BLOCK'])['ZIP'].agg(['count', pd.Series.mode]).reset_index()\n",
    "groupby_count_med_ZIP['key'] = groupby_count_med_ZIP['B'].apply(str) + ' ' + groupby_count_med_ZIP['BLOCK'].apply(str)\n",
    "data['key'] = data['B'].apply(str) + ' ' + data['BLOCK'].apply(str)\n",
    "groupby_count_med_ZIP = rename_col(groupby_count_med_ZIP)\n",
    "data = data.merge(groupby_count_med_ZIP, on = 'key', how = 'left', suffixes=('', '_y'))\n",
    "\n",
    "def clean_zip(zip):\n",
    "    try:\n",
    "        return int(zip)\n",
    "    except:\n",
    "        try:\n",
    "            return int(zip[0])\n",
    "        except:\n",
    "            return np.nan\n",
    "\n",
    "data['mode_y'] = data['mode_y'].apply(clean_zip)\n",
    "data['ZIP'].fillna(data['mode_y'], inplace = True)\n",
    "clean_df()\n",
    "\n",
    "zip_B = data.groupby('B')['ZIP'].agg(['count', pd.Series.mode])\n",
    "zip_B = rename_col(zip_B)\n",
    "data = data.merge(zip_B, on = 'B', how = 'left', suffixes=('', '_y'))\n",
    "data['ZIP'].fillna(data['mode_y'], inplace = True)\n",
    "clean_df()"
   ]
  },
  {
   "cell_type": "code",
   "execution_count": 10,
   "metadata": {},
   "outputs": [
    {
     "data": {
      "text/plain": [
       "0"
      ]
     },
     "execution_count": 10,
     "metadata": {},
     "output_type": "execute_result"
    }
   ],
   "source": [
    "sum(data['ZIP'].isna())"
   ]
  },
  {
   "cell_type": "code",
   "execution_count": 11,
   "metadata": {
    "colab": {
     "base_uri": "https://localhost:8080/",
     "height": 740
    },
    "colab_type": "code",
    "id": "RbR_Ag31yOBD",
    "outputId": "152423f1-4c2b-43ab-f47f-a41a7856e87d"
   },
   "outputs": [
    {
     "name": "stdout",
     "output_type": "stream",
     "text": [
      "Wall time: 7.97 s\n"
     ]
    }
   ],
   "source": [
    "%%time\n",
    "## Replacing missing values in STORIES column\n",
    "\n",
    "stories_level1 = data.groupby(['B', 'TAXCLASS'])['STORIES'].agg(['count', 'median']).reset_index()\n",
    "stories_level1 = stories_level1[stories_level1['count'] >= 5]\n",
    "stories_level1['key'] = stories_level1['B'].apply(str) + ' ' + stories_level1['TAXCLASS']\n",
    "data['key'] = data['B'].apply(str) + ' ' + data['TAXCLASS']\n",
    "stories_level1 = rename_col(stories_level1)\n",
    "data = data.merge(stories_level1, on = 'key', how = 'left', suffixes=('', '_y'))\n",
    "data['STORIES'].fillna(data['median_y'], inplace = True)\n",
    "clean_df()\n",
    "\n",
    "stories_med = data.groupby('TAXCLASS')['STORIES'].agg(['count', 'median']).reset_index()\n",
    "stories_med = rename_col(stories_med)\n",
    "data = data.merge(stories_med, left_on='TAXCLASS', right_on='TAXCLASS_y', how = 'left')\n",
    "data['STORIES'].fillna(data['median_y'], inplace = True)\n",
    "clean_df()"
   ]
  },
  {
   "cell_type": "code",
   "execution_count": 12,
   "metadata": {
    "colab": {},
    "colab_type": "code",
    "id": "s6Cyww9841T4"
   },
   "outputs": [
    {
     "name": "stdout",
     "output_type": "stream",
     "text": [
      "Wall time: 8.36 s\n"
     ]
    }
   ],
   "source": [
    "%%time\n",
    "# Replacing missing values in FULLVAL column\n",
    "\n",
    "zip_tax = data.groupby(['TAXCLASS', 'ZIP'])['FULLVAL'].agg(['count', 'median']).reset_index()\n",
    "zip_tax = zip_tax[zip_tax['count'] >= 5]\n",
    "zip_tax['key'] = zip_tax['TAXCLASS'] + ' ' + zip_tax['ZIP'].apply(str)\n",
    "zip_tax = rename_col(zip_tax)\n",
    "data['key'] = data['TAXCLASS'] + ' ' + data['ZIP'].apply(str)\n",
    "data = data.merge(zip_tax, on='key', how = 'left')\n",
    "data['FULLVAL'].fillna(data['median_y'], inplace = True)\n",
    "clean_df()\n",
    "\n",
    "tax_val = data.groupby('TAXCLASS')['FULLVAL'].agg(['count', 'median']).reset_index()\n",
    "tax_val = rename_col(tax_val)\n",
    "data = data.merge(tax_val, left_on='TAXCLASS', right_on='TAXCLASS_y', how = 'left')\n",
    "data['FULLVAL'].fillna(data['median_y'], inplace = True)\n",
    "clean_df()"
   ]
  },
  {
   "cell_type": "code",
   "execution_count": 13,
   "metadata": {},
   "outputs": [
    {
     "name": "stdout",
     "output_type": "stream",
     "text": [
      "Wall time: 8.39 s\n"
     ]
    }
   ],
   "source": [
    "%%time\n",
    "## Replacing missing values in AVTOT column\n",
    "\n",
    "zip_tax = data.groupby(['TAXCLASS', 'ZIP'])['AVTOT'].agg(['count', 'median']).reset_index()\n",
    "zip_tax = zip_tax[zip_tax['count'] >= 5]\n",
    "zip_tax['key'] = zip_tax['TAXCLASS'] + ' ' + zip_tax['ZIP'].apply(str)\n",
    "zip_tax = rename_col(zip_tax)\n",
    "data['key'] = data['TAXCLASS'] + ' ' + data['ZIP'].apply(str)\n",
    "data = data.merge(zip_tax, on='key', how = 'left')\n",
    "data['AVTOT'].fillna(data['median_y'], inplace = True)\n",
    "clean_df()\n",
    "\n",
    "tax_val = data.groupby('TAXCLASS')['AVTOT'].agg(['count', 'median']).reset_index()\n",
    "tax_val = rename_col(tax_val)\n",
    "data = data.merge(tax_val, left_on='TAXCLASS', right_on='TAXCLASS_y', how = 'left')\n",
    "data['AVTOT'].fillna(data['median_y'], inplace = True)\n",
    "clean_df()"
   ]
  },
  {
   "cell_type": "code",
   "execution_count": 14,
   "metadata": {},
   "outputs": [
    {
     "name": "stdout",
     "output_type": "stream",
     "text": [
      "Wall time: 8.36 s\n"
     ]
    }
   ],
   "source": [
    "%%time\n",
    "## Replacing missing values in AVLAND column\n",
    "\n",
    "zip_tax = data.groupby(['TAXCLASS', 'ZIP'])['AVLAND'].agg(['count', 'median']).reset_index()\n",
    "zip_tax = zip_tax[zip_tax['count'] >= 5]\n",
    "zip_tax['key'] = zip_tax['TAXCLASS'] + ' ' + zip_tax['ZIP'].apply(str)\n",
    "zip_tax = rename_col(zip_tax)\n",
    "data['key'] = data['TAXCLASS'] + ' ' + data['ZIP'].apply(str)\n",
    "data = data.merge(zip_tax, on='key', how = 'left')\n",
    "data['AVLAND'].fillna(data['median_y'], inplace = True)\n",
    "clean_df()\n",
    "\n",
    "tax_val = data.groupby('TAXCLASS')['AVLAND'].agg(['count', 'median']).reset_index()\n",
    "tax_val = rename_col(tax_val)\n",
    "data = data.merge(tax_val, left_on='TAXCLASS', right_on='TAXCLASS_y', how = 'left')\n",
    "data['AVLAND'].fillna(data['median_y'], inplace = True)\n",
    "clean_df()"
   ]
  },
  {
   "cell_type": "code",
   "execution_count": 15,
   "metadata": {},
   "outputs": [
    {
     "name": "stdout",
     "output_type": "stream",
     "text": [
      "Wall time: 8.4 s\n"
     ]
    }
   ],
   "source": [
    "%%time\n",
    "## Replacing missing values in LTFRONT column\n",
    "\n",
    "zip_tax = data.groupby(['TAXCLASS', 'ZIP'])['LTFRONT'].agg(['count', 'median']).reset_index()\n",
    "zip_tax = zip_tax[zip_tax['count'] >= 5]\n",
    "zip_tax['key'] = zip_tax['TAXCLASS'] + ' ' + zip_tax['ZIP'].apply(str)\n",
    "zip_tax = rename_col(zip_tax)\n",
    "data['key'] = data['TAXCLASS'] + ' ' + data['ZIP'].apply(str)\n",
    "data = data.merge(zip_tax, on='key', how = 'left')\n",
    "data['LTFRONT'].fillna(data['median_y'], inplace = True)\n",
    "clean_df()\n",
    "\n",
    "tax_val = data.groupby('TAXCLASS')['LTFRONT'].agg(['count', 'median']).reset_index()\n",
    "tax_val = rename_col(tax_val)\n",
    "data = data.merge(tax_val, left_on='TAXCLASS', right_on='TAXCLASS_y', how = 'left')\n",
    "data['LTFRONT'].fillna(data['median_y'], inplace = True)\n",
    "clean_df()"
   ]
  },
  {
   "cell_type": "code",
   "execution_count": 16,
   "metadata": {},
   "outputs": [
    {
     "name": "stdout",
     "output_type": "stream",
     "text": [
      "Wall time: 8.39 s\n"
     ]
    }
   ],
   "source": [
    "%%time\n",
    "## Replacing missing values in LTDEPTH column\n",
    "\n",
    "\n",
    "zip_tax = data.groupby(['TAXCLASS', 'ZIP'])['LTDEPTH'].agg(['count', 'median']).reset_index()\n",
    "zip_tax = zip_tax[zip_tax['count'] >= 5]\n",
    "zip_tax['key'] = zip_tax['TAXCLASS'] + ' ' + zip_tax['ZIP'].apply(str)\n",
    "zip_tax = rename_col(zip_tax)\n",
    "data['key'] = data['TAXCLASS'] + ' ' + data['ZIP'].apply(str)\n",
    "data = data.merge(zip_tax, on='key', how = 'left')\n",
    "data['LTDEPTH'].fillna(data['median_y'], inplace = True)\n",
    "clean_df()\n",
    "\n",
    "tax_val = data.groupby('TAXCLASS')['LTDEPTH'].agg(['count', 'median']).reset_index()\n",
    "tax_val = rename_col(tax_val)\n",
    "data = data.merge(tax_val, left_on='TAXCLASS', right_on='TAXCLASS_y', how = 'left')\n",
    "data['LTDEPTH'].fillna(data['median_y'], inplace = True)\n",
    "clean_df()"
   ]
  },
  {
   "cell_type": "code",
   "execution_count": 17,
   "metadata": {},
   "outputs": [
    {
     "name": "stdout",
     "output_type": "stream",
     "text": [
      "Wall time: 8.42 s\n"
     ]
    }
   ],
   "source": [
    "%%time\n",
    "## Replacing missing values in BLDFRONT column\n",
    "\n",
    "zip_tax = data.groupby(['TAXCLASS', 'ZIP'])['BLDFRONT'].agg(['count', 'median']).reset_index()\n",
    "zip_tax = zip_tax[zip_tax['count'] >= 5]\n",
    "zip_tax['key'] = zip_tax['TAXCLASS'] + ' ' + zip_tax['ZIP'].apply(str)\n",
    "zip_tax = rename_col(zip_tax)\n",
    "data['key'] = data['TAXCLASS'] + ' ' + data['ZIP'].apply(str)\n",
    "data = data.merge(zip_tax, on='key', how = 'left')\n",
    "data['BLDFRONT'].fillna(data['median_y'], inplace = True)\n",
    "clean_df()\n",
    "\n",
    "tax_val = data.groupby('TAXCLASS')['BLDFRONT'].agg(['count', 'median']).reset_index()\n",
    "tax_val = rename_col(tax_val)\n",
    "data = data.merge(tax_val, left_on='TAXCLASS', right_on='TAXCLASS_y', how = 'left')\n",
    "data['BLDFRONT'].fillna(data['median_y'], inplace = True)\n",
    "clean_df()"
   ]
  },
  {
   "cell_type": "code",
   "execution_count": 18,
   "metadata": {
    "scrolled": true
   },
   "outputs": [
    {
     "name": "stdout",
     "output_type": "stream",
     "text": [
      "Wall time: 8.36 s\n"
     ]
    }
   ],
   "source": [
    "%%time\n",
    "## Replacing missing values in BLDDEPTH column\n",
    "\n",
    "zip_tax = data.groupby(['TAXCLASS', 'ZIP'])['BLDDEPTH'].agg(['count', 'median']).reset_index()\n",
    "zip_tax = zip_tax[zip_tax['count'] >= 5]\n",
    "zip_tax['key'] = zip_tax['TAXCLASS'] + ' ' + zip_tax['ZIP'].apply(str)\n",
    "zip_tax = rename_col(zip_tax)\n",
    "data['key'] = data['TAXCLASS'] + ' ' + data['ZIP'].apply(str)\n",
    "data = data.merge(zip_tax, on='key', how = 'left')\n",
    "data['BLDDEPTH'].fillna(data['median_y'], inplace = True)\n",
    "clean_df()\n",
    "\n",
    "tax_val = data.groupby('TAXCLASS')['BLDDEPTH'].agg(['count', 'median']).reset_index()\n",
    "tax_val = rename_col(tax_val)\n",
    "data = data.merge(tax_val, left_on='TAXCLASS', right_on='TAXCLASS_y', how = 'left')\n",
    "data['BLDDEPTH'].fillna(data['median_y'], inplace = True)\n",
    "clean_df()"
   ]
  },
  {
   "cell_type": "code",
   "execution_count": 19,
   "metadata": {},
   "outputs": [],
   "source": [
    "data.to_csv('Data/NY data no missing values.csv', index = False)"
   ]
  },
  {
   "cell_type": "code",
   "execution_count": 20,
   "metadata": {},
   "outputs": [
    {
     "data": {
      "text/plain": [
       "FULLVAL     0\n",
       "AVLAND      0\n",
       "AVTOT       0\n",
       "LTFRONT     0\n",
       "LTDEPTH     0\n",
       "BLDFRONT    0\n",
       "BLDDEPTH    0\n",
       "ZIP         0\n",
       "STORIES     0\n",
       "RECORD      0\n",
       "B           0\n",
       "BLOCK       0\n",
       "LOT         0\n",
       "TAXCLASS    0\n",
       "dtype: int64"
      ]
     },
     "execution_count": 20,
     "metadata": {},
     "output_type": "execute_result"
    }
   ],
   "source": [
    "data.isna().sum()"
   ]
  }
 ],
 "metadata": {
  "colab": {
   "name": "Untitled.ipynb",
   "provenance": []
  },
  "kernelspec": {
   "display_name": "Python 3",
   "language": "python",
   "name": "python3"
  },
  "language_info": {
   "codemirror_mode": {
    "name": "ipython",
    "version": 3
   },
   "file_extension": ".py",
   "mimetype": "text/x-python",
   "name": "python",
   "nbconvert_exporter": "python",
   "pygments_lexer": "ipython3",
   "version": "3.7.3"
  }
 },
 "nbformat": 4,
 "nbformat_minor": 2
}
